{
 "cells": [
  {
   "cell_type": "markdown",
   "metadata": {},
   "source": [
    "# Tasks\n"
   ]
  },
  {
   "cell_type": "markdown",
   "metadata": {},
   "source": [
    "These are my solutions to the Tasks assignments. The author is Kevin Flanagan (G00228079@gmit.ie).\n",
    "\n",
    "***"
   ]
  },
  {
   "cell_type": "code",
   "execution_count": null,
   "metadata": {},
   "outputs": [],
   "source": [
    "#### Task 1:Calculate a square root\n",
    "***\n",
    "We can calculate the square root of a number using Newton's method [1,2].\n",
    "To find the square root $z$ of a number $x$, we can iterate using the following equation. \n",
    "\n",
    "$$ z_{next} = z - \\frac{z^2 - x} {2z} $$\n",
    "\n",
    "[1] A Tour of Go; Exercise: Loops and Funtions; https://tour.golang.org/flowcontrol/8\n",
    "\n",
    "[2] Newton's method; https://en.wikipedia.org/wiki/Newton%27s_method\n",
    "\n",
    "This task is to find out the square root of 2 and explain how to calculate that with out importing $Math$ into \n",
    "the program. There are loads of examples online to help with this problem, but it must be explained how we completed this task.\n",
    "My research has me looking at $wiki$ to $stackoverflow$ for the answers.\n",
    "From my research i discovered the (** power operator). the power operator submits its left argument to the power of the right argument. This way the numbers are first converted to a common type to be used with one another.\n",
    "\n",
    "\n",
    "[3] Square root from Codecademy; I found $Codecademy$ to be a very helpful in explaining how this works. https://www.codecademy.com/forum_questions/50ee2c132f1af5aa76000c7f\n",
    "This only showed me how the power operator worked and i still need to print out to 100 decimals.\n",
    "\n",
    "For this problem more research was needed, some of the best examples i found were as follows:   \n",
    "[4] $Reddit$ https://amp.reddit.com/r/AskProgramming/comments/j8mwxr/how_to_get_the_square_root_of_a_number_to_100/ \n",
    "\n",
    "and \n",
    "\n",
    "[5] $StackOverFlow$ https://stackoverflow.com/questions/4733173/how-can-i-show-an-irrational-number-to-100-decimal-places-in-python\n",
    "\n"
   ]
  },
  {
   "cell_type": "code",
   "execution_count": null,
   "metadata": {},
   "outputs": [],
   "source": [
    "def sqrt(x):\n",
    "    \"\"\"\n",
    "    A funtion to calculate the square root of a number x. \n",
    "    \"\"\"\n",
    "    # Initial guess for the square root z.\n",
    "    z = x / 2\n",
    "    #Loopn until we're happy with the accuracy.\n",
    "    while abs(x - (z * z)) > 0.001:\n",
    "        # Calculate a better guess for the square root.\n",
    "        z -= (z*z -x) / (2 * z)\n",
    "    # Return the (approximate) square root of x.     \n",
    "    return z"
   ]
  },
  {
   "cell_type": "markdown",
   "metadata": {},
   "source": [
    "#### Tests of the function\n",
    "\n",
    "Here we test the function with some known values."
   ]
  },
  {
   "cell_type": "code",
   "execution_count": null,
   "metadata": {},
   "outputs": [],
   "source": [
    "# Test the function on 100.\n",
    "\n",
    "sqrt(100)"
   ]
  },
  {
   "cell_type": "code",
   "execution_count": null,
   "metadata": {},
   "outputs": [],
   "source": [
    "# Test the function on 2.\n",
    "sqrt(2)"
   ]
  },
  {
   "cell_type": "code",
   "execution_count": null,
   "metadata": {},
   "outputs": [],
   "source": [
    "# Showing sqrt of 2 to 100 decimal places TASK 1\n",
    "# I use \"input\" to recieve the number from the user \n",
    "num = int(input(\"Enter number here: \"))\n",
    "# ** power operator must use (.5)... (1/2) will not work\n",
    "sqrt = num**0.5\n",
    "#prints out the result... \"%.100f\" is telling the program to print out up to 100 decimal places\n",
    "print(\"The square root of \",num, \"is\",\"%.100f\" % sqrt)\n"
   ]
  },
  {
   "cell_type": "markdown",
   "metadata": {},
   "source": [
    "****\n",
    "#### Task 2:Chi-Square or $ X^2 $"
   ]
  },
  {
   "cell_type": "markdown",
   "metadata": {},
   "source": [
    "Chi-square which can also be displayed as $ X^2 $ is a test that measures how a model compares to data that has been observed. This data is better if it is raw data coming from independent variables from a wide sourse of samples. Chi-square compares the difference between raw data and what the expected result from the data will be. Chi-square can be used to validate data of whats expected and whats achieved.    "
   ]
  },
  {
   "cell_type": "code",
   "execution_count": null,
   "metadata": {},
   "outputs": [],
   "source": [
    "import scipy.stats as stats\n",
    "catergories=[[90,60,104,95],[30,50,51,20],[30,40,45,35,]]\n",
    "chi2,p,dof,exp=stats.chi2_contingency(catergories)\n",
    "print(p)"
   ]
  },
  {
   "cell_type": "code",
   "execution_count": null,
   "metadata": {},
   "outputs": [],
   "source": []
  }
 ],
 "metadata": {
  "kernelspec": {
   "display_name": "Python 3",
   "language": "python",
   "name": "python3"
  },
  "language_info": {
   "codemirror_mode": {
    "name": "ipython",
    "version": 3
   },
   "file_extension": ".py",
   "mimetype": "text/x-python",
   "name": "python",
   "nbconvert_exporter": "python",
   "pygments_lexer": "ipython3",
   "version": "3.8.3"
  }
 },
 "nbformat": 4,
 "nbformat_minor": 4
}
